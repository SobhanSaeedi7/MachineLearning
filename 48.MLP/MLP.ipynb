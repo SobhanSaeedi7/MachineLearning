{
  "cells": [
    {
      "cell_type": "code",
      "execution_count": 2,
      "metadata": {
        "id": "v1xCs-bEUNfe"
      },
      "outputs": [],
      "source": [
        "import numpy as np\n",
        "import matplotlib.pyplot as plt\n",
        "from sklearn.datasets import load_digits\n",
        "from sklearn.model_selection import train_test_split"
      ]
    },
    {
      "cell_type": "code",
      "execution_count": 3,
      "metadata": {
        "colab": {
          "base_uri": "https://localhost:8080/"
        },
        "id": "XTDoqFmcVXfb",
        "outputId": "acb8638f-e516-4858-fd6a-ab71031d4ceb"
      },
      "outputs": [
        {
          "data": {
            "text/plain": [
              "((1437, 64), (360, 64), (1437, 10), (360, 10))"
            ]
          },
          "execution_count": 3,
          "metadata": {},
          "output_type": "execute_result"
        }
      ],
      "source": [
        "dataset = load_digits()\n",
        "X = dataset.data\n",
        "Y = dataset.target\n",
        "Y = np.eye(10)[Y] # one hot\n",
        "\n",
        "X_train, X_test, Y_train, Y_test = train_test_split(X, Y, test_size=.2)\n",
        "X_train.shape, X_test.shape, Y_train.shape, Y_test.shape"
      ]
    },
    {
      "cell_type": "code",
      "execution_count": 4,
      "metadata": {
        "id": "FEZTVKb6f3jI"
      },
      "outputs": [],
      "source": [
        "def sigmoid(X):\n",
        "  return 1 / (1 + np.exp(-X))\n",
        "\n",
        "def softmax(X):\n",
        "  return np.exp(X) / np.sum(np.exp(X))\n",
        "\n",
        "def root_mean_squired_error(Y_gt, Y_pred):\n",
        "  return np.sqrt(np.mean((Y_gt - Y_pred) ** 2))"
      ]
    },
    {
      "cell_type": "code",
      "execution_count": 5,
      "metadata": {
        "id": "hhKH0s5IiD91"
      },
      "outputs": [],
      "source": [
        "epochs = 80\n",
        "η = 0.001 # learning rate\n",
        "\n",
        "D_in = X_train.shape[1]\n",
        "H1 = 128\n",
        "H2 = 32\n",
        "D_out = Y_train.shape[1]\n",
        "# D_out = len(np.unique(Y_train))\n"
      ]
    },
    {
      "cell_type": "code",
      "execution_count": 6,
      "metadata": {
        "id": "u9lai2urps8W"
      },
      "outputs": [],
      "source": [
        "W1 = np.random.randn(D_in, H1)\n",
        "W2 = np.random.randn(H1, H2)\n",
        "W3 = np.random.randn(H2, D_out)"
      ]
    },
    {
      "cell_type": "code",
      "execution_count": 7,
      "metadata": {
        "id": "nJWcekJZqLvJ"
      },
      "outputs": [],
      "source": [
        "B1 = np.random.randn(1, H1)\n",
        "B2 = np.random.randn(1, H2)\n",
        "B3 = np.random.randn(1, D_out)"
      ]
    },
    {
      "cell_type": "code",
      "execution_count": 8,
      "metadata": {
        "colab": {
          "base_uri": "https://localhost:8080/"
        },
        "id": "iGXD1SyBqqX4",
        "outputId": "e36d7fb7-b367-4643-8012-1019364edc6b"
      },
      "outputs": [
        {
          "name": "stdout",
          "output_type": "stream",
          "text": [
            "accuracy test :  0.21666666666666667\n",
            "accuracy test :  0.33055555555555555\n",
            "accuracy test :  0.45\n",
            "accuracy test :  0.5305555555555556\n",
            "accuracy test :  0.5861111111111111\n",
            "accuracy test :  0.6416666666666667\n",
            "accuracy test :  0.6916666666666667\n",
            "accuracy test :  0.7194444444444444\n",
            "accuracy test :  0.7388888888888889\n",
            "accuracy test :  0.7611111111111111\n",
            "accuracy test :  0.7666666666666667\n",
            "accuracy test :  0.775\n",
            "accuracy test :  0.7861111111111111\n",
            "accuracy test :  0.8\n",
            "accuracy test :  0.8055555555555556\n",
            "accuracy test :  0.8111111111111111\n",
            "accuracy test :  0.8166666666666667\n",
            "accuracy test :  0.825\n",
            "accuracy test :  0.8333333333333334\n",
            "accuracy test :  0.8305555555555556\n",
            "accuracy test :  0.8361111111111111\n",
            "accuracy test :  0.8333333333333334\n",
            "accuracy test :  0.8333333333333334\n",
            "accuracy test :  0.8388888888888889\n",
            "accuracy test :  0.8388888888888889\n",
            "accuracy test :  0.8388888888888889\n",
            "accuracy test :  0.8472222222222222\n",
            "accuracy test :  0.8527777777777777\n",
            "accuracy test :  0.8555555555555555\n",
            "accuracy test :  0.8555555555555555\n",
            "accuracy test :  0.8583333333333333\n",
            "accuracy test :  0.8583333333333333\n",
            "accuracy test :  0.8555555555555555\n",
            "accuracy test :  0.8611111111111112\n",
            "accuracy test :  0.8638888888888889\n",
            "accuracy test :  0.8611111111111112\n",
            "accuracy test :  0.8611111111111112\n",
            "accuracy test :  0.8638888888888889\n",
            "accuracy test :  0.8722222222222222\n",
            "accuracy test :  0.8694444444444445\n",
            "accuracy test :  0.8694444444444445\n",
            "accuracy test :  0.8666666666666667\n",
            "accuracy test :  0.8666666666666667\n",
            "accuracy test :  0.8666666666666667\n",
            "accuracy test :  0.8611111111111112\n",
            "accuracy test :  0.8611111111111112\n",
            "accuracy test :  0.8611111111111112\n",
            "accuracy test :  0.8611111111111112\n",
            "accuracy test :  0.8666666666666667\n",
            "accuracy test :  0.8694444444444445\n",
            "accuracy test :  0.8722222222222222\n",
            "accuracy test :  0.875\n",
            "accuracy test :  0.875\n",
            "accuracy test :  0.8722222222222222\n",
            "accuracy test :  0.8722222222222222\n",
            "accuracy test :  0.8694444444444445\n",
            "accuracy test :  0.8722222222222222\n",
            "accuracy test :  0.875\n",
            "accuracy test :  0.8805555555555555\n",
            "accuracy test :  0.8805555555555555\n",
            "accuracy test :  0.8805555555555555\n",
            "accuracy test :  0.8805555555555555\n",
            "accuracy test :  0.8805555555555555\n",
            "accuracy test :  0.8805555555555555\n",
            "accuracy test :  0.8805555555555555\n",
            "accuracy test :  0.8805555555555555\n",
            "accuracy test :  0.8805555555555555\n",
            "accuracy test :  0.8805555555555555\n",
            "accuracy test :  0.8805555555555555\n",
            "accuracy test :  0.8833333333333333\n",
            "accuracy test :  0.8805555555555555\n",
            "accuracy test :  0.8833333333333333\n",
            "accuracy test :  0.8833333333333333\n",
            "accuracy test :  0.8861111111111111\n",
            "accuracy test :  0.8861111111111111\n",
            "accuracy test :  0.8861111111111111\n",
            "accuracy test :  0.8861111111111111\n",
            "accuracy test :  0.8861111111111111\n",
            "accuracy test :  0.8861111111111111\n",
            "accuracy test :  0.8861111111111111\n"
          ]
        }
      ],
      "source": [
        "for epoch in range(epochs):\n",
        "  Y_pred_train = []\n",
        "\n",
        "  # train\n",
        "\n",
        "  for x, y in zip(X_train, Y_train):\n",
        "\n",
        "      x = x.reshape(-1, 1)\n",
        "\n",
        "      # forward\n",
        "\n",
        "      # layer 1\n",
        "      out1 = sigmoid(x.T @ W1 + B1)\n",
        "\n",
        "      # layer 2\n",
        "      out2 = sigmoid(out1 @ W2 + B2)\n",
        "\n",
        "      # layer 3\n",
        "      y_pred = softmax(out2 @ W3 + B3)\n",
        "\n",
        "      Y_pred_train.append(y_pred)\n",
        "\n",
        "      # backward\n",
        "\n",
        "      # layer 3\n",
        "      erorr = -2 * (y - y_pred)\n",
        "      grad_B3 = erorr\n",
        "      grad_W3 = out2.T @ erorr\n",
        "\n",
        "      # layer 2\n",
        "      erorr = erorr @ W3.T * out2 * (1 - out2)\n",
        "      grad_B2 = erorr\n",
        "      grad_W2 = out1.T @ erorr\n",
        "\n",
        "      # layer 1\n",
        "      erorr = erorr @ W2.T * out1 * (1 - out1)\n",
        "      grad_B1 = erorr\n",
        "      grad_W1 = x @ erorr\n",
        "\n",
        "      # update\n",
        "\n",
        "      # layer 1\n",
        "      W1 -= η * grad_W1\n",
        "      B1 -= η * grad_B1\n",
        "\n",
        "      # layer 2\n",
        "      W2 -= η * grad_W2\n",
        "      B2 -= η * grad_B2\n",
        "\n",
        "      # layer 3\n",
        "      W3 -= η * grad_W3\n",
        "      B3 -= η * grad_B3\n",
        "\n",
        "  # test\n",
        "\n",
        "  Y_pred_test = []\n",
        "  for x, y in zip(X_test, Y_test):\n",
        "\n",
        "      x = x.reshape(-1, 1)\n",
        "\n",
        "      # forward\n",
        "\n",
        "      # layer 1\n",
        "      out1 = sigmoid(x.T @ W1 + B1)\n",
        "\n",
        "      # layer 2\n",
        "      out2 = sigmoid(out1 @ W2 + B2)\n",
        "\n",
        "      # layer 3\n",
        "      y_pred = softmax(out2 @ W3 + B3)\n",
        "\n",
        "      Y_pred_test.append(y_pred)\n",
        "\n",
        "\n",
        "  Y_pred_train = np.array(Y_pred_train).reshape(-1, 10)\n",
        "  loss_train = root_mean_squired_error(Y_train, Y_pred_train)\n",
        "  accuracy_train = np.sum(np.argmax(Y_train, axis=1) == np.argmax(Y_pred_train, axis=1)) / len(Y_train)\n",
        "#   print('loss train : ',loss_train)\n",
        "#   print('accuracy train : ',accuracy_train)\n",
        "\n",
        "  Y_pred_test = np.array(Y_pred_test).reshape(-1, 10)\n",
        "  loss_test = root_mean_squired_error(Y_test, Y_pred_test)\n",
        "  accuracy_test = np.sum(np.argmax(Y_test, axis=1) == np.argmax(Y_pred_test, axis=1)) / len(Y_test)\n",
        "#   print('loss test : ',loss_test)\n",
        "  print('accuracy test : ',accuracy_test)\n"
      ]
    },
    {
      "cell_type": "code",
      "execution_count": null,
      "metadata": {
        "id": "QV0UFuUgqrOL"
      },
      "outputs": [],
      "source": []
    }
  ],
  "metadata": {
    "colab": {
      "provenance": []
    },
    "kernelspec": {
      "display_name": "Python 3",
      "name": "python3"
    },
    "language_info": {
      "codemirror_mode": {
        "name": "ipython",
        "version": 3
      },
      "file_extension": ".py",
      "mimetype": "text/x-python",
      "name": "python",
      "nbconvert_exporter": "python",
      "pygments_lexer": "ipython3",
      "version": "3.10.8"
    }
  },
  "nbformat": 4,
  "nbformat_minor": 0
}
