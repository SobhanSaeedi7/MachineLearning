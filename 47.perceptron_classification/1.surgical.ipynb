{
 "cells": [
  {
   "cell_type": "code",
   "execution_count": 2,
   "metadata": {},
   "outputs": [],
   "source": [
    "import numpy as np\n",
    "import matplotlib.pyplot as plt\n",
    "import pandas as pd\n",
    "from sklearn.model_selection import train_test_split\n",
    "\n",
    "from perceptron import Perceptron"
   ]
  },
  {
   "cell_type": "code",
   "execution_count": 3,
   "metadata": {},
   "outputs": [
    {
     "data": {
      "text/html": [
       "<div>\n",
       "<style scoped>\n",
       "    .dataframe tbody tr th:only-of-type {\n",
       "        vertical-align: middle;\n",
       "    }\n",
       "\n",
       "    .dataframe tbody tr th {\n",
       "        vertical-align: top;\n",
       "    }\n",
       "\n",
       "    .dataframe thead th {\n",
       "        text-align: right;\n",
       "    }\n",
       "</style>\n",
       "<table border=\"1\" class=\"dataframe\">\n",
       "  <thead>\n",
       "    <tr style=\"text-align: right;\">\n",
       "      <th></th>\n",
       "      <th>bmi</th>\n",
       "      <th>Age</th>\n",
       "      <th>asa_status</th>\n",
       "      <th>baseline_cancer</th>\n",
       "      <th>baseline_charlson</th>\n",
       "      <th>baseline_cvd</th>\n",
       "      <th>baseline_dementia</th>\n",
       "      <th>baseline_diabetes</th>\n",
       "      <th>baseline_digestive</th>\n",
       "      <th>baseline_osteoart</th>\n",
       "      <th>...</th>\n",
       "      <th>complication_rsi</th>\n",
       "      <th>dow</th>\n",
       "      <th>gender</th>\n",
       "      <th>hour</th>\n",
       "      <th>month</th>\n",
       "      <th>moonphase</th>\n",
       "      <th>mort30</th>\n",
       "      <th>mortality_rsi</th>\n",
       "      <th>race</th>\n",
       "      <th>complication</th>\n",
       "    </tr>\n",
       "  </thead>\n",
       "  <tbody>\n",
       "    <tr>\n",
       "      <th>0</th>\n",
       "      <td>19.31</td>\n",
       "      <td>59.2</td>\n",
       "      <td>1</td>\n",
       "      <td>1</td>\n",
       "      <td>0</td>\n",
       "      <td>0</td>\n",
       "      <td>0</td>\n",
       "      <td>0</td>\n",
       "      <td>0</td>\n",
       "      <td>0</td>\n",
       "      <td>...</td>\n",
       "      <td>-0.57</td>\n",
       "      <td>3</td>\n",
       "      <td>0</td>\n",
       "      <td>7.63</td>\n",
       "      <td>6</td>\n",
       "      <td>1</td>\n",
       "      <td>0</td>\n",
       "      <td>-0.43</td>\n",
       "      <td>1</td>\n",
       "      <td>0</td>\n",
       "    </tr>\n",
       "    <tr>\n",
       "      <th>1</th>\n",
       "      <td>18.73</td>\n",
       "      <td>59.1</td>\n",
       "      <td>0</td>\n",
       "      <td>0</td>\n",
       "      <td>0</td>\n",
       "      <td>0</td>\n",
       "      <td>0</td>\n",
       "      <td>0</td>\n",
       "      <td>0</td>\n",
       "      <td>0</td>\n",
       "      <td>...</td>\n",
       "      <td>0.21</td>\n",
       "      <td>0</td>\n",
       "      <td>0</td>\n",
       "      <td>12.93</td>\n",
       "      <td>0</td>\n",
       "      <td>1</td>\n",
       "      <td>0</td>\n",
       "      <td>-0.41</td>\n",
       "      <td>1</td>\n",
       "      <td>0</td>\n",
       "    </tr>\n",
       "    <tr>\n",
       "      <th>2</th>\n",
       "      <td>21.85</td>\n",
       "      <td>59.0</td>\n",
       "      <td>0</td>\n",
       "      <td>0</td>\n",
       "      <td>0</td>\n",
       "      <td>0</td>\n",
       "      <td>0</td>\n",
       "      <td>0</td>\n",
       "      <td>0</td>\n",
       "      <td>0</td>\n",
       "      <td>...</td>\n",
       "      <td>0.00</td>\n",
       "      <td>2</td>\n",
       "      <td>0</td>\n",
       "      <td>7.68</td>\n",
       "      <td>5</td>\n",
       "      <td>3</td>\n",
       "      <td>0</td>\n",
       "      <td>0.08</td>\n",
       "      <td>1</td>\n",
       "      <td>0</td>\n",
       "    </tr>\n",
       "    <tr>\n",
       "      <th>3</th>\n",
       "      <td>18.49</td>\n",
       "      <td>59.0</td>\n",
       "      <td>1</td>\n",
       "      <td>0</td>\n",
       "      <td>1</td>\n",
       "      <td>0</td>\n",
       "      <td>0</td>\n",
       "      <td>1</td>\n",
       "      <td>1</td>\n",
       "      <td>0</td>\n",
       "      <td>...</td>\n",
       "      <td>-0.65</td>\n",
       "      <td>2</td>\n",
       "      <td>1</td>\n",
       "      <td>7.58</td>\n",
       "      <td>4</td>\n",
       "      <td>3</td>\n",
       "      <td>0</td>\n",
       "      <td>-0.32</td>\n",
       "      <td>1</td>\n",
       "      <td>0</td>\n",
       "    </tr>\n",
       "    <tr>\n",
       "      <th>4</th>\n",
       "      <td>19.70</td>\n",
       "      <td>59.0</td>\n",
       "      <td>1</td>\n",
       "      <td>0</td>\n",
       "      <td>0</td>\n",
       "      <td>0</td>\n",
       "      <td>0</td>\n",
       "      <td>0</td>\n",
       "      <td>0</td>\n",
       "      <td>0</td>\n",
       "      <td>...</td>\n",
       "      <td>0.00</td>\n",
       "      <td>0</td>\n",
       "      <td>0</td>\n",
       "      <td>7.88</td>\n",
       "      <td>11</td>\n",
       "      <td>0</td>\n",
       "      <td>0</td>\n",
       "      <td>0.00</td>\n",
       "      <td>1</td>\n",
       "      <td>0</td>\n",
       "    </tr>\n",
       "  </tbody>\n",
       "</table>\n",
       "<p>5 rows × 25 columns</p>\n",
       "</div>"
      ],
      "text/plain": [
       "     bmi   Age  asa_status  baseline_cancer  baseline_charlson  baseline_cvd  \\\n",
       "0  19.31  59.2           1                1                  0             0   \n",
       "1  18.73  59.1           0                0                  0             0   \n",
       "2  21.85  59.0           0                0                  0             0   \n",
       "3  18.49  59.0           1                0                  1             0   \n",
       "4  19.70  59.0           1                0                  0             0   \n",
       "\n",
       "   baseline_dementia  baseline_diabetes  baseline_digestive  \\\n",
       "0                  0                  0                   0   \n",
       "1                  0                  0                   0   \n",
       "2                  0                  0                   0   \n",
       "3                  0                  1                   1   \n",
       "4                  0                  0                   0   \n",
       "\n",
       "   baseline_osteoart  ...  complication_rsi  dow  gender   hour  month  \\\n",
       "0                  0  ...             -0.57    3       0   7.63      6   \n",
       "1                  0  ...              0.21    0       0  12.93      0   \n",
       "2                  0  ...              0.00    2       0   7.68      5   \n",
       "3                  0  ...             -0.65    2       1   7.58      4   \n",
       "4                  0  ...              0.00    0       0   7.88     11   \n",
       "\n",
       "   moonphase  mort30  mortality_rsi  race  complication  \n",
       "0          1       0          -0.43     1             0  \n",
       "1          1       0          -0.41     1             0  \n",
       "2          3       0           0.08     1             0  \n",
       "3          3       0          -0.32     1             0  \n",
       "4          0       0           0.00     1             0  \n",
       "\n",
       "[5 rows x 25 columns]"
      ]
     },
     "execution_count": 3,
     "metadata": {},
     "output_type": "execute_result"
    }
   ],
   "source": [
    "df = pd.read_csv('Inputs/Surgical-deepnet.csv')\n",
    "df.head()"
   ]
  },
  {
   "cell_type": "code",
   "execution_count": 4,
   "metadata": {},
   "outputs": [
    {
     "data": {
      "text/plain": [
       "bmi                    0\n",
       "Age                    0\n",
       "asa_status             0\n",
       "baseline_cancer        0\n",
       "baseline_charlson      0\n",
       "baseline_cvd           0\n",
       "baseline_dementia      0\n",
       "baseline_diabetes      0\n",
       "baseline_digestive     0\n",
       "baseline_osteoart      0\n",
       "baseline_psych         0\n",
       "baseline_pulmonary     0\n",
       "ahrq_ccs               0\n",
       "ccsComplicationRate    0\n",
       "ccsMort30Rate          0\n",
       "complication_rsi       0\n",
       "dow                    0\n",
       "gender                 0\n",
       "hour                   0\n",
       "month                  0\n",
       "moonphase              0\n",
       "mort30                 0\n",
       "mortality_rsi          0\n",
       "race                   0\n",
       "complication           0\n",
       "dtype: int64"
      ]
     },
     "execution_count": 4,
     "metadata": {},
     "output_type": "execute_result"
    }
   ],
   "source": [
    "df.isnull().sum()"
   ]
  },
  {
   "cell_type": "markdown",
   "metadata": {},
   "source": [
    "* **1. Fit an object oriented perceptron algorithm on the surgical dataset for classification**"
   ]
  },
  {
   "cell_type": "code",
   "execution_count": 5,
   "metadata": {},
   "outputs": [
    {
     "data": {
      "text/plain": [
       "((11708, 24), (2927, 24), (11708, 1), (2927, 1))"
      ]
     },
     "execution_count": 5,
     "metadata": {},
     "output_type": "execute_result"
    }
   ],
   "source": [
    "X = df.drop('complication', axis=1).copy().values\n",
    "Y = df[['complication']].copy().values\n",
    "\n",
    "X_train, X_test, Y_train, Y_test = train_test_split(X, Y, test_size=0.2, shuffle=True)\n",
    "X_train.shape, X_test.shape, Y_train.shape, Y_test.shape,"
   ]
  },
  {
   "cell_type": "code",
   "execution_count": 7,
   "metadata": {},
   "outputs": [
    {
     "name": "stderr",
     "output_type": "stream",
     "text": [
      "100%|██████████| 128/128 [01:35<00:00,  1.33it/s]\n"
     ]
    }
   ],
   "source": [
    "model = Perceptron(learning_rate=0.001, input_length=X_train.shape[1], type_of_data='classification')\n",
    "model.fit(X_train,  X_test, Y_train, Y_test, epochs=128)"
   ]
  },
  {
   "cell_type": "code",
   "execution_count": 15,
   "metadata": {},
   "outputs": [
    {
     "data": {
      "text/plain": [
       "(0.18294729510467006, 18.018790570550053)"
      ]
     },
     "execution_count": 15,
     "metadata": {},
     "output_type": "execute_result"
    }
   ],
   "source": [
    "model.evaluate(X_test, Y_test)"
   ]
  },
  {
   "cell_type": "markdown",
   "metadata": {},
   "source": [
    "* **2. Plot accuracy in each epoch for train and test data**"
   ]
  },
  {
   "cell_type": "code",
   "execution_count": 16,
   "metadata": {},
   "outputs": [
    {
     "data": {
      "text/plain": [
       "<matplotlib.legend.Legend at 0x1b0bd553ee0>"
      ]
     },
     "execution_count": 16,
     "metadata": {},
     "output_type": "execute_result"
    },
    {
     "data": {
      "image/png": "[encoded data removed]",
      "text/plain": [
       "<Figure size 640x480 with 1 Axes>"
      ]
     },
     "metadata": {},
     "output_type": "display_data"
    }
   ],
   "source": [
    "plt.plot(model.train_accuracies)\n",
    "plt.plot(model.test_accuracies)\n",
    "plt.title('model accuracy')\n",
    "plt.xlabel('epoch')\n",
    "plt.ylabel('accuracy')\n",
    "plt.legend(['train','test'])"
   ]
  },
  {
   "cell_type": "markdown",
   "metadata": {},
   "source": [
    "* **3. Plot loss in each epoch for train and test data**"
   ]
  },
  {
   "cell_type": "code",
   "execution_count": 17,
   "metadata": {},
   "outputs": [
    {
     "data": {
      "text/plain": [
       "<matplotlib.legend.Legend at 0x1b0bd51b850>"
      ]
     },
     "execution_count": 17,
     "metadata": {},
     "output_type": "execute_result"
    },
    {
     "data": {
      "image/png": "[encoded data removed]",
      "text/plain": [
       "<Figure size 640x480 with 1 Axes>"
      ]
     },
     "metadata": {},
     "output_type": "display_data"
    }
   ],
   "source": [
    "plt.plot(model.train_losses)\n",
    "plt.plot(model.test_losses)\n",
    "plt.title('model loss')\n",
    "plt.xlabel('epoch')\n",
    "plt.ylabel('loss')\n",
    "plt.legend(['train','test'])"
   ]
  },
  {
   "cell_type": "markdown",
   "metadata": {},
   "source": [
    "* **4. Calculate confusion matrix**"
   ]
  },
  {
   "cell_type": "code",
   "execution_count": 19,
   "metadata": {},
   "outputs": [
    {
     "data": {
      "text/plain": [
       "(2927, 1)"
      ]
     },
     "execution_count": 19,
     "metadata": {},
     "output_type": "execute_result"
    }
   ],
   "source": [
    "Y_pred = model.predict(X_test)\n",
    "Y_pred = np.where(Y_pred > 0.5, 1, 0)\n",
    "Y_pred = np.max(Y_pred, axis=1)\n",
    "Y_pred = Y_pred.reshape(-1, 1)\n",
    "Y_pred.shape"
   ]
  },
  {
   "cell_type": "code",
   "execution_count": 20,
   "metadata": {},
   "outputs": [
    {
     "data": {
      "text/plain": [
       "array([[1448,  755],\n",
       "       [ 282,  442]], dtype=int64)"
      ]
     },
     "execution_count": 20,
     "metadata": {},
     "output_type": "execute_result"
    }
   ],
   "source": [
    "from sklearn import metrics\n",
    "\n",
    "confusion_matrix = metrics.confusion_matrix(Y_test, Y_pred)\n",
    "\n",
    "confusion_matrix"
   ]
  },
  {
   "cell_type": "code",
   "execution_count": 12,
   "metadata": {},
   "outputs": [
    {
     "data": {
      "image/png": "[encoded data removed]",
      "text/plain": [
       "<Figure size 640x480 with 2 Axes>"
      ]
     },
     "metadata": {},
     "output_type": "display_data"
    }
   ],
   "source": [
    "cm_display = metrics.ConfusionMatrixDisplay(confusion_matrix = confusion_matrix, display_labels = [0, 1])\n",
    "\n",
    "cm_display.plot(cmap='YlGnBu')\n",
    "plt.show()"
   ]
  },
  {
   "cell_type": "markdown",
   "metadata": {},
   "source": [
    "* **5. Repeat the above steps with 5 different activation functions**"
   ]
  },
  {
   "cell_type": "code",
   "execution_count": 13,
   "metadata": {},
   "outputs": [
    {
     "name": "stderr",
     "output_type": "stream",
     "text": [
      "  0%|          | 0/256 [00:00<?, ?it/s]"
     ]
    },
    {
     "name": "stderr",
     "output_type": "stream",
     "text": [
      "100%|██████████| 256/256 [02:40<00:00,  1.59it/s]\n",
      "100%|██████████| 256/256 [01:57<00:00,  2.18it/s]\n",
      "100%|██████████| 256/256 [01:32<00:00,  2.78it/s]\n",
      "  0%|          | 0/256 [00:00<?, ?it/s]c:\\Users\\USER\\Documents\\MachineLearning\\47.perceptron_classification\\perceptron.py:35: RuntimeWarning: overflow encountered in multiply\n",
      "  loss_weights = (y_pred - y_train) * x_train\n",
      "c:\\Users\\USER\\Documents\\MachineLearning\\47.perceptron_classification\\perceptron.py:37: RuntimeWarning: invalid value encountered in subtract\n",
      "  self.weights = self.weights - self.learning_rate * loss_weights\n",
      "100%|██████████| 256/256 [01:20<00:00,  3.20it/s]\n",
      " 13%|█▎        | 34/256 [00:32<03:31,  1.05it/s]c:\\Users\\USER\\Documents\\MachineLearning\\47.perceptron_classification\\perceptron.py:27: RuntimeWarning: overflow encountered in exp\n",
      "  return np.exp(x) / np.sum(np.exp(x))\n",
      "c:\\Users\\USER\\Documents\\MachineLearning\\47.perceptron_classification\\perceptron.py:27: RuntimeWarning: invalid value encountered in divide\n",
      "  return np.exp(x) / np.sum(np.exp(x))\n",
      "100%|██████████| 256/256 [03:58<00:00,  1.07it/s]\n"
     ]
    },
    {
     "data": {
      "text/plain": [
       "{'sigmoid': 18.26033481380253,\n",
       " 'relu': 18.251451998633414,\n",
       " 'tanh': 17.73590707208746,\n",
       " 'linear': 18.250768705158865,\n",
       " 'softmax': 18.17833959685685}"
      ]
     },
     "execution_count": 13,
     "metadata": {},
     "output_type": "execute_result"
    }
   ],
   "source": [
    "functions = ['sigmoid', 'relu', 'tanh', 'linear', 'softmax']\n",
    "losses = {'sigmoid':0, 'relu':0, 'tanh':0, 'linear':0, 'softmax':0}\n",
    "accuracies = {'sigmoid':0, 'relu':0, 'tanh':0, 'linear':0, 'softmax':0}\n",
    "\n",
    "for function in functions:\n",
    "    model = Perceptron(learning_rate=0.001, input_length=X_train.shape[1], type_of_data='classification', function=function)\n",
    "    model.fit(X_train,  X_test, Y_train, Y_test, epochs=256)  \n",
    "\n",
    "    loss, accuracy = model.evaluate(X_test, Y_test)\n",
    "    losses[function] = loss\n",
    "    accuracies[function] = accuracy\n",
    "\n",
    "losses\n",
    "accuracies"
   ]
  },
  {
   "cell_type": "code",
   "execution_count": 14,
   "metadata": {},
   "outputs": [
    {
     "data": {
      "text/plain": [
       "{'sigmoid': 0.17943495748797134,\n",
       " 'relu': 0.18213520418590473,\n",
       " 'tanh': 0.20348117270402355,\n",
       " 'linear': nan,\n",
       " 'softmax': nan}"
      ]
     },
     "execution_count": 14,
     "metadata": {},
     "output_type": "execute_result"
    }
   ],
   "source": [
    "losses"
   ]
  }
 ],
 "metadata": {
  "kernelspec": {
   "display_name": "Python 3",
   "language": "python",
   "name": "python3"
  },
  "language_info": {
   "codemirror_mode": {
    "name": "ipython",
    "version": 3
   },
   "file_extension": ".py",
   "mimetype": "text/x-python",
   "name": "python",
   "nbconvert_exporter": "python",
   "pygments_lexer": "ipython3",
   "version": "3.10.8"
  }
 },
 "nbformat": 4,
 "nbformat_minor": 2
}
